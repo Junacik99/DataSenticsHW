{
 "cells": [
  {
   "cell_type": "code",
   "execution_count": 1,
   "id": "fc1543e9",
   "metadata": {},
   "outputs": [],
   "source": [
    "import pandas as pd"
   ]
  },
  {
   "cell_type": "code",
   "execution_count": 2,
   "id": "fb5d7bce",
   "metadata": {},
   "outputs": [
    {
     "data": {
      "text/html": [
       "<div>\n",
       "<style scoped>\n",
       "    .dataframe tbody tr th:only-of-type {\n",
       "        vertical-align: middle;\n",
       "    }\n",
       "\n",
       "    .dataframe tbody tr th {\n",
       "        vertical-align: top;\n",
       "    }\n",
       "\n",
       "    .dataframe thead th {\n",
       "        text-align: right;\n",
       "    }\n",
       "</style>\n",
       "<table border=\"1\" class=\"dataframe\">\n",
       "  <thead>\n",
       "    <tr style=\"text-align: right;\">\n",
       "      <th></th>\n",
       "      <th>id</th>\n",
       "      <th>Book-Title</th>\n",
       "      <th>Book-Author</th>\n",
       "      <th>ISBN</th>\n",
       "      <th>genres</th>\n",
       "    </tr>\n",
       "  </thead>\n",
       "  <tbody>\n",
       "    <tr>\n",
       "      <th>0</th>\n",
       "      <td>2767052</td>\n",
       "      <td>The Hunger Games (The Hunger Games, #1)</td>\n",
       "      <td>Suzanne Collins</td>\n",
       "      <td>9.780439e+12</td>\n",
       "      <td>Young Adult</td>\n",
       "    </tr>\n",
       "    <tr>\n",
       "      <th>1</th>\n",
       "      <td>2</td>\n",
       "      <td>Harry Potter and the Order of the Phoenix (Har...</td>\n",
       "      <td>J.K. Rowling</td>\n",
       "      <td>9.780439e+12</td>\n",
       "      <td>Fantasy</td>\n",
       "    </tr>\n",
       "    <tr>\n",
       "      <th>2</th>\n",
       "      <td>2657</td>\n",
       "      <td>To Kill a Mockingbird</td>\n",
       "      <td>Harper Lee</td>\n",
       "      <td>NaN</td>\n",
       "      <td>Classics</td>\n",
       "    </tr>\n",
       "    <tr>\n",
       "      <th>3</th>\n",
       "      <td>1885</td>\n",
       "      <td>Pride and Prejudice</td>\n",
       "      <td>Jane Austen</td>\n",
       "      <td>NaN</td>\n",
       "      <td>Classics</td>\n",
       "    </tr>\n",
       "    <tr>\n",
       "      <th>4</th>\n",
       "      <td>41865</td>\n",
       "      <td>Twilight (Twilight, #1)</td>\n",
       "      <td>Stephenie Meyer</td>\n",
       "      <td>9.780316e+12</td>\n",
       "      <td>Young Adult</td>\n",
       "    </tr>\n",
       "  </tbody>\n",
       "</table>\n",
       "</div>"
      ],
      "text/plain": [
       "        id                                         Book-Title  \\\n",
       "0  2767052            The Hunger Games (The Hunger Games, #1)   \n",
       "1        2  Harry Potter and the Order of the Phoenix (Har...   \n",
       "2     2657                              To Kill a Mockingbird   \n",
       "3     1885                                Pride and Prejudice   \n",
       "4    41865                            Twilight (Twilight, #1)   \n",
       "\n",
       "       Book-Author          ISBN       genres  \n",
       "0  Suzanne Collins  9.780439e+12  Young Adult  \n",
       "1     J.K. Rowling  9.780439e+12      Fantasy  \n",
       "2       Harper Lee           NaN     Classics  \n",
       "3      Jane Austen           NaN     Classics  \n",
       "4  Stephenie Meyer  9.780316e+12  Young Adult  "
      ]
     },
     "execution_count": 2,
     "metadata": {},
     "output_type": "execute_result"
    }
   ],
   "source": [
    "dataset = pd.read_csv(\n",
    "    '../data/goodreads.csv', \n",
    "    encoding='cp1251', \n",
    "    sep=',',\n",
    "    usecols=['id', 'Book-Title', 'Book-Author', 'ISBN', 'genres']\n",
    "    )\n",
    "dataset.head()"
   ]
  },
  {
   "cell_type": "code",
   "execution_count": 3,
   "id": "1b7f9f4d",
   "metadata": {},
   "outputs": [
    {
     "name": "stdout",
     "output_type": "stream",
     "text": [
      "<class 'pandas.core.frame.DataFrame'>\n",
      "RangeIndex: 200 entries, 0 to 199\n",
      "Data columns (total 5 columns):\n",
      " #   Column       Non-Null Count  Dtype  \n",
      "---  ------       --------------  -----  \n",
      " 0   id           200 non-null    int64  \n",
      " 1   Book-Title   200 non-null    object \n",
      " 2   Book-Author  200 non-null    object \n",
      " 3   ISBN         150 non-null    float64\n",
      " 4   genres       200 non-null    object \n",
      "dtypes: float64(1), int64(1), object(3)\n",
      "memory usage: 7.9+ KB\n"
     ]
    }
   ],
   "source": [
    "dataset.info()"
   ]
  },
  {
   "cell_type": "markdown",
   "id": "d3a86159",
   "metadata": {},
   "source": [
    "# Content Based Recommendations"
   ]
  },
  {
   "cell_type": "code",
   "execution_count": 4,
   "id": "c43837e1",
   "metadata": {},
   "outputs": [],
   "source": [
    "from sklearn.feature_extraction.text import CountVectorizer\n",
    "from sklearn.metrics.pairwise import cosine_similarity"
   ]
  },
  {
   "cell_type": "code",
   "execution_count": 5,
   "id": "b672cc00",
   "metadata": {},
   "outputs": [],
   "source": [
    "# Combine author and genres into a feature\n",
    "dataset['features'] = dataset['Book-Author'] + ' ' + dataset['genres']"
   ]
  },
  {
   "cell_type": "code",
   "execution_count": 6,
   "id": "b037ed7a",
   "metadata": {},
   "outputs": [
    {
     "data": {
      "text/plain": [
       "<Compressed Sparse Row sparse matrix of dtype 'int64'\n",
       "\twith 627 stored elements and shape (200, 308)>"
      ]
     },
     "execution_count": 6,
     "metadata": {},
     "output_type": "execute_result"
    }
   ],
   "source": [
    "# Vectorize features\n",
    "count_vectorizer = CountVectorizer()\n",
    "feature_matrix  = count_vectorizer.fit_transform(dataset['features'])\n",
    "feature_matrix"
   ]
  },
  {
   "cell_type": "code",
   "execution_count": 7,
   "id": "d1094fff",
   "metadata": {},
   "outputs": [
    {
     "data": {
      "text/plain": [
       "array([[1.        , 0.        , 0.        , ..., 0.        , 0.        ,\n",
       "        0.5       ],\n",
       "       [0.        , 1.        , 0.        , ..., 0.        , 0.        ,\n",
       "        0.        ],\n",
       "       [0.        , 0.        , 1.        , ..., 0.33333333, 0.33333333,\n",
       "        0.        ],\n",
       "       ...,\n",
       "       [0.        , 0.        , 0.33333333, ..., 1.        , 0.33333333,\n",
       "        0.        ],\n",
       "       [0.        , 0.        , 0.33333333, ..., 0.33333333, 1.        ,\n",
       "        0.        ],\n",
       "       [0.5       , 0.        , 0.        , ..., 0.        , 0.        ,\n",
       "        1.        ]], shape=(200, 200))"
      ]
     },
     "execution_count": 7,
     "metadata": {},
     "output_type": "execute_result"
    }
   ],
   "source": [
    "# Cosine similarity\n",
    "cosine_sim = cosine_similarity(feature_matrix)\n",
    "cosine_sim"
   ]
  },
  {
   "cell_type": "code",
   "execution_count": 8,
   "id": "12a823b8",
   "metadata": {},
   "outputs": [
    {
     "data": {
      "text/plain": [
       "np.int64(78)"
      ]
     },
     "execution_count": 8,
     "metadata": {},
     "output_type": "execute_result"
    }
   ],
   "source": [
    "# find book the fellowship of the ring\n",
    "book = \"The Fellowship of the Ring (The Lord of the Rings, #1)\"\n",
    "book_idx = dataset[dataset['Book-Title'] == book].index[0]\n",
    "book_idx"
   ]
  },
  {
   "cell_type": "code",
   "execution_count": 9,
   "id": "82baf80b",
   "metadata": {},
   "outputs": [
    {
     "name": "stdout",
     "output_type": "stream",
     "text": [
      "Recommendations for 'The Fellowship of the Ring (The Lord of the Rings, #1)':\n",
      "- J.R.R. Tolkien 4-Book Boxed Set: The Hobbit and The Lord of the Rings (Score: 1.00)\n",
      "- The Hobbit, or There and Back Again (Score: 1.00)\n",
      "- Harry Potter and the Order of the Phoenix (Harry Potter, #5) (Score: 0.50)\n",
      "- The Chronicles of Narnia (Chronicles of Narnia, #1-7) (Score: 0.50)\n",
      "- Harry Potter and the Sorcerer's Stone (Harry Potter, #1) (Score: 0.50)\n",
      "- Harry Potter and the Deathly Hallows (Harry Potter, #7) (Score: 0.50)\n",
      "- Harry Potter and the Prisoner of Azkaban (Harry Potter, #3) (Score: 0.50)\n",
      "- Harry Potter and the Goblet of Fire (Harry Potter, #4) (Score: 0.50)\n",
      "- Harry Potter and the Half-Blood Prince (Harry Potter, #6) (Score: 0.50)\n",
      "- Harry Potter and the Chamber of Secrets (Harry Potter, #2) (Score: 0.50)\n"
     ]
    }
   ],
   "source": [
    "# Find similar books\n",
    "similar_books = list(enumerate(cosine_sim[book_idx]))\n",
    "similar_books = sorted(similar_books, key=lambda x: x[1], reverse=True)\n",
    "\n",
    "# Exclude the book itself\n",
    "similar_books = [x for x in similar_books if x[0] != book_idx]\n",
    "\n",
    "# Display top recommendations\n",
    "print(f\"Recommendations for '{book}':\")\n",
    "for idx, score in similar_books[:10]:\n",
    "    print(f\"- {dataset.iloc[idx]['Book-Title']} (Score: {score:.2f})\")\n"
   ]
  }
 ],
 "metadata": {
  "kernelspec": {
   "display_name": "hw_venv",
   "language": "python",
   "name": "python3"
  },
  "language_info": {
   "codemirror_mode": {
    "name": "ipython",
    "version": 3
   },
   "file_extension": ".py",
   "mimetype": "text/x-python",
   "name": "python",
   "nbconvert_exporter": "python",
   "pygments_lexer": "ipython3",
   "version": "3.11.8"
  }
 },
 "nbformat": 4,
 "nbformat_minor": 5
}
